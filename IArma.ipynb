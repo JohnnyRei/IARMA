{
 "cells": [
  {
   "cell_type": "code",
   "execution_count": 6,
   "metadata": {},
   "outputs": [],
   "source": [
    "# Imports\n",
    "import tensorflow as tf\n",
    "import keras as K\n",
    "from keras.models import Sequential\n",
    "from keras.layers import Conv2D\n",
    "from keras.layers import MaxPooling2D\n",
    "from keras.layers import Flatten\n",
    "from keras.layers import Dense"
   ]
  },
  {
   "attachments": {},
   "cell_type": "markdown",
   "metadata": {},
   "source": [
    "\n",
    "Initializing the Convolutional Neural Network."
   ]
  },
  {
   "cell_type": "code",
   "execution_count": 7,
   "metadata": {},
   "outputs": [],
   "source": [
    "classifier = Sequential()"
   ]
  },
  {
   "attachments": {},
   "cell_type": "markdown",
   "metadata": {},
   "source": [
    "We will convert all our 256x256 pixel images into a 3D array (since the images are colored with 3 color channels)."
   ]
  },
  {
   "cell_type": "code",
   "execution_count": 8,
   "metadata": {},
   "outputs": [],
   "source": [
    "# First Convolutional Layer\n",
    "classifier.add(Conv2D(32, (3, 3), input_shape = (64, 64, 3), activation = 'relu'))"
   ]
  },
  {
   "attachments": {},
   "cell_type": "markdown",
   "metadata": {},
   "source": [
    "Pooling to reduce the size of the feature map resulting from the first convolutional layer (divided by 2)."
   ]
  },
  {
   "cell_type": "code",
   "execution_count": 9,
   "metadata": {},
   "outputs": [],
   "source": [
    "classifier.add(MaxPooling2D(pool_size = (2, 2)))"
   ]
  },
  {
   "cell_type": "code",
   "execution_count": 10,
   "metadata": {},
   "outputs": [],
   "source": [
    "\n",
    "# Adding the Second Convolutional Layer\n",
    "classifier.add(Conv2D(32, (3, 3), activation = 'relu'))"
   ]
  },
  {
   "cell_type": "code",
   "execution_count": 11,
   "metadata": {},
   "outputs": [],
   "source": [
    "classifier.add(MaxPooling2D(pool_size = (2, 2)))"
   ]
  },
  {
   "attachments": {},
   "cell_type": "markdown",
   "metadata": {},
   "source": [
    "Flatten to convert the 2D data structure resulting from the previous layer into a 1D structure, i.e., a vector."
   ]
  },
  {
   "cell_type": "code",
   "execution_count": 12,
   "metadata": {},
   "outputs": [],
   "source": [
    "classifier.add(Flatten())"
   ]
  },
  {
   "attachments": {},
   "cell_type": "markdown",
   "metadata": {},
   "source": [
    "\n",
    "We use a rectified linear unit (ReLU) activation function, followed by a sigmoid activation function, to obtain the probabilities of each image containing a firearm or not."
   ]
  },
  {
   "cell_type": "code",
   "execution_count": 13,
   "metadata": {},
   "outputs": [],
   "source": [
    "# Full connection\n",
    "classifier.add(Dense(units = 128, activation = 'relu'))\n",
    "classifier.add(Dense(units = 1, activation = 'sigmoid'))"
   ]
  },
  {
   "attachments": {},
   "cell_type": "markdown",
   "metadata": {},
   "source": [
    "To compile the network, we use the \"Adam\" optimizer, an excellent first-order optimization algorithm for gradient-based optimization of stochastic objective functions. It utilizes an adaptive estimation of lower-order moments."
   ]
  },
  {
   "attachments": {},
   "cell_type": "markdown",
   "metadata": {},
   "source": [
    "We use a log loss function with \"binary cross-entropy\" since it works well with sigmoid functions. Our metric will be accuracy since that is our main concern in training this type of model."
   ]
  },
  {
   "cell_type": "code",
   "execution_count": 14,
   "metadata": {},
   "outputs": [],
   "source": [
    "# Compiling the network\n",
    "classifier.compile(optimizer = 'adam', loss = 'binary_crossentropy', metrics = ['accuracy'])"
   ]
  },
  {
   "cell_type": "code",
   "execution_count": 15,
   "metadata": {},
   "outputs": [],
   "source": [
    "# Creating the train_datagen and validation_datagen objects with the preprocessing rules for the images.\n",
    "from keras.preprocessing.image import ImageDataGenerator\n",
    "\n",
    "train_datagen = ImageDataGenerator(rescale = 1./255,\n",
    "                                   shear_range = 0.2,\n",
    "                                   zoom_range = 0.2,\n",
    "                                   horizontal_flip = True)\n",
    "\n",
    "validation_datagen = ImageDataGenerator(rescale = 1./255)"
   ]
  },
  {
   "attachments": {},
   "cell_type": "markdown",
   "metadata": {},
   "source": [
    "\n",
    "Two objects previously created to preprocess the training and validation data."
   ]
  },
  {
   "cell_type": "code",
   "execution_count": 16,
   "metadata": {},
   "outputs": [
    {
     "name": "stdout",
     "output_type": "stream",
     "text": [
      "Found 1695 images belonging to 2 classes.\n",
      "Found 0 images belonging to 0 classes.\n"
     ]
    }
   ],
   "source": [
    "# Preprocessing of training and validation images.\n",
    "training_set = train_datagen.flow_from_directory('dataset_training',\n",
    "                                                 target_size = (64, 64),\n",
    "                                                 batch_size = 32,\n",
    "                                                 class_mode = 'binary')\n",
    "\n",
    "validation_set = validation_datagen.flow_from_directory('dataset_validation',\n",
    "                                                        target_size = (64, 64),\n",
    "                                                        batch_size = 32,\n",
    "                                                        class_mode = 'binary')"
   ]
  },
  {
   "cell_type": "code",
   "execution_count": 17,
   "metadata": {},
   "outputs": [
    {
     "name": "stderr",
     "output_type": "stream",
     "text": [
      "C:\\Users\\johnn\\AppData\\Local\\Temp\\ipykernel_20676\\3046109758.py:2: UserWarning: `Model.fit_generator` is deprecated and will be removed in a future version. Please use `Model.fit`, which supports generators.\n",
      "  classifier.fit_generator(training_set,\n"
     ]
    },
    {
     "name": "stdout",
     "output_type": "stream",
     "text": [
      "Epoch 1/38\n",
      "53/53 [==============================] - 37s 652ms/step - loss: 0.4883 - accuracy: 0.7652\n",
      "Epoch 2/38\n",
      "53/53 [==============================] - 18s 345ms/step - loss: 0.3625 - accuracy: 0.8330\n",
      "Epoch 3/38\n",
      "53/53 [==============================] - 14s 268ms/step - loss: 0.2896 - accuracy: 0.8714\n",
      "Epoch 4/38\n",
      "53/53 [==============================] - 14s 263ms/step - loss: 0.3022 - accuracy: 0.8714\n",
      "Epoch 5/38\n",
      "53/53 [==============================] - 13s 248ms/step - loss: 0.2448 - accuracy: 0.8938\n",
      "Epoch 6/38\n",
      "53/53 [==============================] - 13s 245ms/step - loss: 0.2423 - accuracy: 0.8991\n",
      "Epoch 7/38\n",
      "53/53 [==============================] - 13s 253ms/step - loss: 0.2211 - accuracy: 0.9115\n",
      "Epoch 8/38\n",
      "53/53 [==============================] - 13s 252ms/step - loss: 0.2095 - accuracy: 0.9127\n",
      "Epoch 9/38\n",
      "53/53 [==============================] - 13s 249ms/step - loss: 0.2092 - accuracy: 0.9215\n",
      "Epoch 10/38\n",
      "53/53 [==============================] - 13s 248ms/step - loss: 0.1868 - accuracy: 0.9215\n",
      "Epoch 11/38\n",
      "53/53 [==============================] - 13s 241ms/step - loss: 0.2044 - accuracy: 0.9192\n",
      "Epoch 12/38\n",
      "53/53 [==============================] - 13s 245ms/step - loss: 0.1901 - accuracy: 0.9263\n",
      "Epoch 13/38\n",
      "53/53 [==============================] - 17s 331ms/step - loss: 0.1872 - accuracy: 0.9162\n",
      "Epoch 14/38\n",
      "53/53 [==============================] - 19s 353ms/step - loss: 0.1697 - accuracy: 0.9327\n",
      "Epoch 15/38\n",
      "53/53 [==============================] - 17s 307ms/step - loss: 0.1488 - accuracy: 0.9404\n",
      "Epoch 16/38\n",
      "53/53 [==============================] - 14s 262ms/step - loss: 0.1320 - accuracy: 0.9487\n",
      "Epoch 17/38\n",
      "53/53 [==============================] - 14s 261ms/step - loss: 0.1488 - accuracy: 0.9386\n",
      "Epoch 18/38\n",
      "53/53 [==============================] - 13s 248ms/step - loss: 0.1428 - accuracy: 0.9445\n",
      "Epoch 19/38\n",
      "53/53 [==============================] - 13s 247ms/step - loss: 0.1517 - accuracy: 0.9416\n",
      "Epoch 20/38\n",
      "53/53 [==============================] - 19s 366ms/step - loss: 0.1233 - accuracy: 0.9504\n",
      "Epoch 21/38\n",
      "53/53 [==============================] - 14s 264ms/step - loss: 0.1520 - accuracy: 0.9404\n",
      "Epoch 22/38\n",
      "53/53 [==============================] - 14s 255ms/step - loss: 0.1166 - accuracy: 0.9499\n",
      "Epoch 23/38\n",
      "53/53 [==============================] - 13s 249ms/step - loss: 0.1051 - accuracy: 0.9558\n",
      "Epoch 24/38\n",
      "53/53 [==============================] - 13s 249ms/step - loss: 0.1035 - accuracy: 0.9581\n",
      "Epoch 25/38\n",
      "53/53 [==============================] - 13s 251ms/step - loss: 0.0993 - accuracy: 0.9575\n",
      "Epoch 26/38\n",
      "53/53 [==============================] - 13s 252ms/step - loss: 0.0888 - accuracy: 0.9640\n",
      "Epoch 27/38\n",
      "53/53 [==============================] - 14s 254ms/step - loss: 0.0823 - accuracy: 0.9693\n",
      "Epoch 28/38\n",
      "53/53 [==============================] - 13s 244ms/step - loss: 0.0838 - accuracy: 0.9693\n",
      "Epoch 29/38\n",
      "53/53 [==============================] - 13s 251ms/step - loss: 0.0922 - accuracy: 0.9699\n",
      "Epoch 30/38\n",
      "53/53 [==============================] - 13s 252ms/step - loss: 0.0929 - accuracy: 0.9664\n",
      "Epoch 31/38\n",
      "53/53 [==============================] - 13s 249ms/step - loss: 0.0909 - accuracy: 0.9634\n",
      "Epoch 32/38\n",
      "53/53 [==============================] - 13s 251ms/step - loss: 0.0654 - accuracy: 0.9758\n",
      "Epoch 33/38\n",
      "53/53 [==============================] - 13s 244ms/step - loss: 0.0540 - accuracy: 0.9794\n",
      "Epoch 34/38\n",
      "53/53 [==============================] - 13s 249ms/step - loss: 0.0641 - accuracy: 0.9770\n",
      "Epoch 35/38\n",
      "53/53 [==============================] - 13s 252ms/step - loss: 0.0793 - accuracy: 0.9717\n",
      "Epoch 36/38\n",
      "53/53 [==============================] - 13s 249ms/step - loss: 0.0494 - accuracy: 0.9788\n",
      "Epoch 37/38\n",
      "53/53 [==============================] - 13s 252ms/step - loss: 0.0476 - accuracy: 0.9847\n",
      "Epoch 38/38\n",
      "53/53 [==============================] - 13s 244ms/step - loss: 0.0426 - accuracy: 0.9864\n"
     ]
    },
    {
     "data": {
      "text/plain": [
       "<keras.callbacks.History at 0x1f033a5f7c0>"
      ]
     },
     "execution_count": 17,
     "metadata": {},
     "output_type": "execute_result"
    }
   ],
   "source": [
    "# Running the training (this process can take a significant amount of time, depending on your computer).\n",
    "classifier.fit_generator(training_set,\n",
    "                         steps_per_epoch = 53,\n",
    "                         epochs = 38,\n",
    "                         validation_data = validation_set,\n",
    "                         validation_steps = 53)"
   ]
  },
  {
   "cell_type": "code",
   "execution_count": 18,
   "metadata": {},
   "outputs": [
    {
     "name": "stdout",
     "output_type": "stream",
     "text": [
      "1/1 [==============================] - 0s 142ms/step\n",
      "There is a firearm in the image.\n"
     ]
    },
    {
     "data": {
      "image/jpeg": "[encoded data removed]",
      "text/plain": [
       "<IPython.core.display.Image object>"
      ]
     },
     "execution_count": 18,
     "metadata": {},
     "output_type": "execute_result"
    }
   ],
   "source": [
    "# Testing with an image.\n",
    "import numpy as np\n",
    "from IPython.display import Image\n",
    "from keras.preprocessing import image\n",
    "\n",
    "test_image = tf.keras.utils.load_img('dataset_test/1.jpg', target_size = (64, 64))\n",
    "test_image = tf.keras.utils.img_to_array(test_image)\n",
    "test_image = np.expand_dims(test_image, axis = 0)\n",
    "result = classifier.predict(test_image)\n",
    "training_set.class_indices\n",
    "\n",
    "if result[0][0] == 1:\n",
    "    prediction = 'There is no firearm in the image.'\n",
    "else:\n",
    "    prediction = 'There is a firearm in the image.'\n",
    "\n",
    "print(prediction)\n",
    "Image(filename='dataset_test/1.jpg')"
   ]
  },
  {
   "cell_type": "code",
   "execution_count": 19,
   "metadata": {},
   "outputs": [
    {
     "name": "stdout",
     "output_type": "stream",
     "text": [
      "1/1 [==============================] - 0s 24ms/step\n",
      "There is a firearm in the image.\n"
     ]
    },
    {
     "data": {
      "image/jpeg": "[encoded data removed]",
      "text/plain": [
       "<IPython.core.display.Image object>"
      ]
     },
     "execution_count": 19,
     "metadata": {},
     "output_type": "execute_result"
    }
   ],
   "source": [
    "# Testing with an image.\n",
    "import numpy as np\n",
    "from IPython.display import Image\n",
    "from keras.preprocessing import image\n",
    "\n",
    "test_image = tf.keras.utils.load_img('dataset_test/2.jpg', target_size = (64, 64))\n",
    "test_image = tf.keras.utils.img_to_array(test_image)\n",
    "test_image = np.expand_dims(test_image, axis = 0)\n",
    "result = classifier.predict(test_image)\n",
    "training_set.class_indices\n",
    "\n",
    "if result[0][0] == 1:\n",
    "    prediction = 'There is no firearm in the image.'\n",
    "else:\n",
    "    prediction = 'There is a firearm in the image.'\n",
    "\n",
    "print(prediction)\n",
    "Image(filename='dataset_test/2.jpg')"
   ]
  },
  {
   "cell_type": "code",
   "execution_count": 20,
   "metadata": {},
   "outputs": [
    {
     "name": "stdout",
     "output_type": "stream",
     "text": [
      "1/1 [==============================] - 0s 25ms/step\n",
      "There is a firearm in the image.\n"
     ]
    },
    {
     "data": {
      "image/jpeg": "[encoded data removed]",
      "text/plain": [
       "<IPython.core.display.Image object>"
      ]
     },
     "execution_count": 20,
     "metadata": {},
     "output_type": "execute_result"
    }
   ],
   "source": [
    "# Testing with an image.\n",
    "import numpy as np\n",
    "from IPython.display import Image\n",
    "from keras.preprocessing import image\n",
    "\n",
    "test_image = tf.keras.utils.load_img('dataset_test/3.jpg', target_size = (64, 64))\n",
    "test_image = tf.keras.utils.img_to_array(test_image)\n",
    "test_image = np.expand_dims(test_image, axis = 0)\n",
    "result = classifier.predict(test_image)\n",
    "training_set.class_indices\n",
    "\n",
    "if result[0][0] == 1:\n",
    "    prediction = 'There is no firearm in the image.'\n",
    "else:\n",
    "    prediction = 'There is a firearm in the image.'\n",
    "\n",
    "print(prediction)\n",
    "Image(filename='dataset_test/3.jpg')"
   ]
  }
 ],
 "metadata": {
  "interpreter": {
   "hash": "1fa24f92b28a3ec6f7f8c10b899db1441c6af89cb002efb1bb768901a2ca3010"
  },
  "kernelspec": {
   "display_name": "Python 3.9.12 ('base')",
   "language": "python",
   "name": "python3"
  },
  "language_info": {
   "codemirror_mode": {
    "name": "ipython",
    "version": 3
   },
   "file_extension": ".py",
   "mimetype": "text/x-python",
   "name": "python",
   "nbconvert_exporter": "python",
   "pygments_lexer": "ipython3",
   "version": "3.9.12"
  },
  "orig_nbformat": 4
 },
 "nbformat": 4,
 "nbformat_minor": 2
}
